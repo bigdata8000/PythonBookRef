{
 "cells": [
  {
   "cell_type": "code",
   "execution_count": 6,
   "metadata": {},
   "outputs": [
    {
     "name": "stdout",
     "output_type": "stream",
     "text": [
      "Hello World!\n"
     ]
    }
   ],
   "source": [
    "## Python Prj for Kids - Jessica Ing via Packtpub.\n",
    "\n",
    "## Jupyter short cuts:\n",
    "## [Ctrl] + [Enter] = Run code.\n",
    "## [Shift] + [Enter] = New Cell Down\n",
    "\n",
    "\n",
    "print(\"Hello World!\")"
   ]
  },
  {
   "cell_type": "code",
   "execution_count": 18,
   "metadata": {},
   "outputs": [
    {
     "data": {
      "text/plain": [
       "9"
      ]
     },
     "execution_count": 18,
     "metadata": {},
     "output_type": "execute_result"
    }
   ],
   "source": [
    "# Intergers\n",
    "\n",
    "4+5"
   ]
  },
  {
   "cell_type": "code",
   "execution_count": 20,
   "metadata": {},
   "outputs": [
    {
     "data": {
      "text/plain": [
       "6.84"
      ]
     },
     "execution_count": 20,
     "metadata": {},
     "output_type": "execute_result"
    }
   ],
   "source": [
    "## Floats\n",
    "\n",
    "3.14 + 5.55 / (1.5)"
   ]
  },
  {
   "cell_type": "code",
   "execution_count": 16,
   "metadata": {},
   "outputs": [
    {
     "name": "stdout",
     "output_type": "stream",
     "text": [
      "Henry Lam is 21\n"
     ]
    }
   ],
   "source": [
    "#Concat, strings, numbers\n",
    "\n",
    "f_name = \"Henry\"\n",
    "l_name = \"Lam\"\n",
    "age = 21\n",
    "print(f_name +\" \"+ l_name+ \" is \"+ str(age))"
   ]
  },
  {
   "cell_type": "code",
   "execution_count": 17,
   "metadata": {},
   "outputs": [
    {
     "name": "stdout",
     "output_type": "stream",
     "text": [
      "1020\n",
      "70\n"
     ]
    }
   ],
   "source": [
    "# double quotes treats integers as strings\n",
    "\n",
    "a = \"10\"\n",
    "b = \"20\"\n",
    "c = 30\n",
    "d = 40\n",
    "print(a+b)\n",
    "print(c+d)"
   ]
  },
  {
   "cell_type": "code",
   "execution_count": 88,
   "metadata": {},
   "outputs": [
    {
     "name": "stdout",
     "output_type": "stream",
     "text": [
      "What is your name? Henry\n",
      "Hi Henry, Nice to meet you!\n"
     ]
    }
   ],
   "source": [
    "## user interacting\n",
    "\n",
    "name = input(\"What is your name? \")\n",
    "print(\"Hi \" + name + \", Nice to meet you!\")"
   ]
  },
  {
   "cell_type": "code",
   "execution_count": 42,
   "metadata": {},
   "outputs": [
    {
     "name": "stdout",
     "output_type": "stream",
     "text": [
      "False\n",
      "True\n",
      "False\n",
      "False\n",
      "True\n"
     ]
    }
   ],
   "source": [
    "## Equal, not equal, or someting else ?\n",
    "\n",
    "a = (1 < 1)\n",
    "b = (1 <= 1)\n",
    "c = (1 > 1)\n",
    "d = (1 >= 1)\n",
    "e = (1 == 1)\n",
    "d = (1 != 1)\n",
    "print(a)\n",
    "print(b)\n",
    "print(c)\n",
    "print(d)\n",
    "print(e)"
   ]
  },
  {
   "cell_type": "code",
   "execution_count": 50,
   "metadata": {},
   "outputs": [
    {
     "name": "stdout",
     "output_type": "stream",
     "text": [
      "a is greater than b\n"
     ]
    }
   ],
   "source": [
    "# if, elif, else\n",
    "\n",
    "a = 200\n",
    "b = 33\n",
    "if b > a:\n",
    "  print(\"b is greater than a\")\n",
    "elif a == b:\n",
    "  print(\"a and b are equal\")\n",
    "else:\n",
    "  print(\"a is greater than b\")"
   ]
  },
  {
   "cell_type": "code",
   "execution_count": 53,
   "metadata": {},
   "outputs": [
    {
     "name": "stdout",
     "output_type": "stream",
     "text": [
      "1\n",
      "2\n",
      "3\n",
      "4\n"
     ]
    }
   ],
   "source": [
    "## loops\n",
    "## note, 5 is not included\n",
    "\n",
    "for n in range(1, 5):\n",
    "    print(n)"
   ]
  },
  {
   "cell_type": "code",
   "execution_count": 67,
   "metadata": {},
   "outputs": [
    {
     "name": "stdout",
     "output_type": "stream",
     "text": [
      "['kiwi', 'orange', 'mango']\n"
     ]
    }
   ],
   "source": [
    "## Lists, square brackets\n",
    "## lists position, starts at 0, ie fruits: kiwi, is at position 2.\n",
    "\n",
    "fruits = ['apple', 'banana', 'kiwi', 'orange', 'mango']\n",
    "years = ['2012', '2013', '2014', '2015']\n",
    "\n",
    "# print(fruits)\n",
    "# print(fruits[2])\n",
    "print(fruits[2:5])\n"
   ]
  },
  {
   "cell_type": "code",
   "execution_count": 80,
   "metadata": {},
   "outputs": [
    {
     "name": "stdout",
     "output_type": "stream",
     "text": [
      "I like Toyota.\n",
      "I like Nissan.\n",
      "I like Tesla.\n"
     ]
    }
   ],
   "source": [
    "## using lists and loops\n",
    "\n",
    "cars = ['Toyota', 'Nissan', 'Tesla']\n",
    "for car in cars:\n",
    "    print('I like ' + car  +  '.')\n"
   ]
  },
  {
   "cell_type": "code",
   "execution_count": 90,
   "metadata": {},
   "outputs": [
    {
     "name": "stdout",
     "output_type": "stream",
     "text": [
      "{'father': 'Adam', 'mother': 'eve', 'brother': 'Henry Lam', 'sister': 'mary'}\n",
      "Henry Lam\n"
     ]
    }
   ],
   "source": [
    "## Dictionary, curly brackets, with pair values, get item by [].\n",
    "\n",
    "family = {'father' : 'Adam', 'mother' : 'eve', 'brother' : 'Henry Lam', 'sister' : 'mary'}\n",
    "print(family)\n",
    "print(family['brother'])\n"
   ]
  }
 ],
 "metadata": {
  "kernelspec": {
   "display_name": "Python 3",
   "language": "python",
   "name": "python3"
  },
  "language_info": {
   "codemirror_mode": {
    "name": "ipython",
    "version": 3
   },
   "file_extension": ".py",
   "mimetype": "text/x-python",
   "name": "python",
   "nbconvert_exporter": "python",
   "pygments_lexer": "ipython3",
   "version": "3.7.3"
  }
 },
 "nbformat": 4,
 "nbformat_minor": 2
}
